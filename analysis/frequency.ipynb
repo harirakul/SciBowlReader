{
 "cells": [
  {
   "cell_type": "code",
   "execution_count": 8,
   "metadata": {},
   "outputs": [],
   "source": [
    "import json\n",
    "import pandas as pd"
   ]
  },
  {
   "cell_type": "code",
   "execution_count": 24,
   "metadata": {},
   "outputs": [],
   "source": [
    "with open(\"..\\data\\json\\BIOLOGY.json\", \"r\") as f:\n",
    "    d = json.load(f)\n",
    "\n",
    "#Replace MCQ responses with actual answer\n",
    "for i in range(len(d) - 1):\n",
    "    try:\n",
    "        if \"Options\" in d[i].keys():\n",
    "            letter = d[i]['Answer']\n",
    "            d[i]['Answer'] = d[i][\"Options\"][letter]\n",
    "            del d[i]['Options']\n",
    "    except:\n",
    "        d.pop(i)"
   ]
  },
  {
   "cell_type": "code",
   "execution_count": 25,
   "metadata": {},
   "outputs": [
    {
     "output_type": "execute_result",
     "data": {
      "text/plain": [
       "   Number  Subject             Type  \\\n",
       "0       1  BIOLOGY     Short Answer   \n",
       "1       1  BIOLOGY     Short Answer   \n",
       "2       8  BIOLOGY  Multiple Choice   \n",
       "3       8  BIOLOGY     Short Answer   \n",
       "4      15  BIOLOGY     Short Answer   \n",
       "\n",
       "                                            Question        Answer Options  \n",
       "0  What is the most common term used in genetics ...     PHENOTYPE     NaN  \n",
       "1  What is the biological term most often used fo...  PHAGOCYTOSIS     NaN  \n",
       "2  Human epidermis is mostly composed of which of...    epithelial     NaN  \n",
       "3  What are the 2 basic categories of lymphocyte ...       T AND B     NaN  \n",
       "4  How many embryonic seed leaves does a bean see...             2     NaN  "
      ],
      "text/html": "<div>\n<style scoped>\n    .dataframe tbody tr th:only-of-type {\n        vertical-align: middle;\n    }\n\n    .dataframe tbody tr th {\n        vertical-align: top;\n    }\n\n    .dataframe thead th {\n        text-align: right;\n    }\n</style>\n<table border=\"1\" class=\"dataframe\">\n  <thead>\n    <tr style=\"text-align: right;\">\n      <th></th>\n      <th>Number</th>\n      <th>Subject</th>\n      <th>Type</th>\n      <th>Question</th>\n      <th>Answer</th>\n      <th>Options</th>\n    </tr>\n  </thead>\n  <tbody>\n    <tr>\n      <th>0</th>\n      <td>1</td>\n      <td>BIOLOGY</td>\n      <td>Short Answer</td>\n      <td>What is the most common term used in genetics ...</td>\n      <td>PHENOTYPE</td>\n      <td>NaN</td>\n    </tr>\n    <tr>\n      <th>1</th>\n      <td>1</td>\n      <td>BIOLOGY</td>\n      <td>Short Answer</td>\n      <td>What is the biological term most often used fo...</td>\n      <td>PHAGOCYTOSIS</td>\n      <td>NaN</td>\n    </tr>\n    <tr>\n      <th>2</th>\n      <td>8</td>\n      <td>BIOLOGY</td>\n      <td>Multiple Choice</td>\n      <td>Human epidermis is mostly composed of which of...</td>\n      <td>epithelial</td>\n      <td>NaN</td>\n    </tr>\n    <tr>\n      <th>3</th>\n      <td>8</td>\n      <td>BIOLOGY</td>\n      <td>Short Answer</td>\n      <td>What are the 2 basic categories of lymphocyte ...</td>\n      <td>T AND B</td>\n      <td>NaN</td>\n    </tr>\n    <tr>\n      <th>4</th>\n      <td>15</td>\n      <td>BIOLOGY</td>\n      <td>Short Answer</td>\n      <td>How many embryonic seed leaves does a bean see...</td>\n      <td>2</td>\n      <td>NaN</td>\n    </tr>\n  </tbody>\n</table>\n</div>"
     },
     "metadata": {},
     "execution_count": 25
    }
   ],
   "source": [
    "df = pd.DataFrame(d)\n",
    "df.head()"
   ]
  },
  {
   "cell_type": "code",
   "execution_count": 26,
   "metadata": {},
   "outputs": [
    {
     "output_type": "execute_result",
     "data": {
      "text/plain": [
       "2                                                                    10\n",
       "OXYGEN                                                                5\n",
       "ALL                                                                   5\n",
       "3                                                                     4\n",
       "1, 3, 4                                                               3\n",
       "                                                                     ..\n",
       "Remove all members of Species A living between 5500 and 7000 feet     1\n",
       "They possess leucine [LOO-seen] zipper domains                        1\n",
       "Lymphocytes [LIM-fuh-syts]                                            1\n",
       "POLLEN                                                                1\n",
       "Black mamba                                                           1\n",
       "Name: Answer, Length: 1016, dtype: int64"
      ]
     },
     "metadata": {},
     "execution_count": 26
    }
   ],
   "source": [
    "df[\"Answer\"].value_counts()"
   ]
  },
  {
   "cell_type": "code",
   "execution_count": 40,
   "metadata": {},
   "outputs": [
    {
     "output_type": "execute_result",
     "data": {
      "text/plain": [
       "THE             1982\n",
       "OF              1507\n",
       "IS               668\n",
       "                 613\n",
       "WHICH            609\n",
       "                ... \n",
       "5™CCGCGA           1\n",
       "JH                 1\n",
       "HYPOGLOSSAL,       1\n",
       "BLOODSTREAM?       1\n",
       "MOSQUITO           1\n",
       "Length: 5634, dtype: int64"
      ]
     },
     "metadata": {},
     "execution_count": 40
    }
   ],
   "source": [
    "words = []\n",
    "for i in list(df['Question']):\n",
    "    words.extend([j.strip('()1234?').upper() for j in i.split(' ')])\n",
    "pd.Series(words).value_counts()"
   ]
  },
  {
   "cell_type": "code",
   "execution_count": null,
   "metadata": {},
   "outputs": [],
   "source": []
  }
 ],
 "metadata": {
  "kernelspec": {
   "name": "python3",
   "display_name": "Python 3.9.1 64-bit",
   "metadata": {
    "interpreter": {
     "hash": "e096f4ec2f86033eb39bbec3d81e97a9d09299ab4d5591217ee059f7bf7b671e"
    }
   }
  },
  "language_info": {
   "codemirror_mode": {
    "name": "ipython",
    "version": 3
   },
   "file_extension": ".py",
   "mimetype": "text/x-python",
   "name": "python",
   "nbconvert_exporter": "python",
   "pygments_lexer": "ipython3",
   "version": "3.9.1-final"
  }
 },
 "nbformat": 4,
 "nbformat_minor": 4
}