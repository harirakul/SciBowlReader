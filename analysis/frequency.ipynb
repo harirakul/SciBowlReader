{
 "cells": [
  {
   "cell_type": "code",
   "execution_count": 18,
   "metadata": {},
   "outputs": [],
   "source": [
    "import nltk\n",
    "from nltk.corpus import stopwords\n",
    "import pandas as pd\n",
    "import json"
   ]
  },
  {
   "cell_type": "code",
   "execution_count": 2,
   "metadata": {},
   "outputs": [],
   "source": [
    "with open(\"..\\data\\json\\BIOLOGY.json\", \"r\") as f:\n",
    "    d = json.load(f)\n",
    "\n",
    "#Replace MCQ responses with actual answer\n",
    "for i in range(len(d) - 1):\n",
    "    try:\n",
    "        if \"Options\" in d[i].keys():\n",
    "            letter = d[i]['Answer']\n",
    "            d[i]['Answer'] = d[i][\"Options\"][letter]\n",
    "            del d[i]['Options']\n",
    "    except:\n",
    "        d.pop(i)"
   ]
  },
  {
   "cell_type": "code",
   "execution_count": 7,
   "metadata": {},
   "outputs": [
    {
     "output_type": "execute_result",
     "data": {
      "text/plain": [
       "   Number  Subject             Type  \\\n",
       "0       1  BIOLOGY     Short Answer   \n",
       "1       1  BIOLOGY     Short Answer   \n",
       "2       8  BIOLOGY  Multiple Choice   \n",
       "3       8  BIOLOGY     Short Answer   \n",
       "4      15  BIOLOGY     Short Answer   \n",
       "\n",
       "                                            Question        Answer Options  \n",
       "0  What is the most common term used in genetics ...     PHENOTYPE     NaN  \n",
       "1  What is the biological term most often used fo...  PHAGOCYTOSIS     NaN  \n",
       "2  Human epidermis is mostly composed of which of...    epithelial     NaN  \n",
       "3  What are the 2 basic categories of lymphocyte ...       T AND B     NaN  \n",
       "4  How many embryonic seed leaves does a bean see...             2     NaN  "
      ],
      "text/html": "<div>\n<style scoped>\n    .dataframe tbody tr th:only-of-type {\n        vertical-align: middle;\n    }\n\n    .dataframe tbody tr th {\n        vertical-align: top;\n    }\n\n    .dataframe thead th {\n        text-align: right;\n    }\n</style>\n<table border=\"1\" class=\"dataframe\">\n  <thead>\n    <tr style=\"text-align: right;\">\n      <th></th>\n      <th>Number</th>\n      <th>Subject</th>\n      <th>Type</th>\n      <th>Question</th>\n      <th>Answer</th>\n      <th>Options</th>\n    </tr>\n  </thead>\n  <tbody>\n    <tr>\n      <th>0</th>\n      <td>1</td>\n      <td>BIOLOGY</td>\n      <td>Short Answer</td>\n      <td>What is the most common term used in genetics ...</td>\n      <td>PHENOTYPE</td>\n      <td>NaN</td>\n    </tr>\n    <tr>\n      <th>1</th>\n      <td>1</td>\n      <td>BIOLOGY</td>\n      <td>Short Answer</td>\n      <td>What is the biological term most often used fo...</td>\n      <td>PHAGOCYTOSIS</td>\n      <td>NaN</td>\n    </tr>\n    <tr>\n      <th>2</th>\n      <td>8</td>\n      <td>BIOLOGY</td>\n      <td>Multiple Choice</td>\n      <td>Human epidermis is mostly composed of which of...</td>\n      <td>epithelial</td>\n      <td>NaN</td>\n    </tr>\n    <tr>\n      <th>3</th>\n      <td>8</td>\n      <td>BIOLOGY</td>\n      <td>Short Answer</td>\n      <td>What are the 2 basic categories of lymphocyte ...</td>\n      <td>T AND B</td>\n      <td>NaN</td>\n    </tr>\n    <tr>\n      <th>4</th>\n      <td>15</td>\n      <td>BIOLOGY</td>\n      <td>Short Answer</td>\n      <td>How many embryonic seed leaves does a bean see...</td>\n      <td>2</td>\n      <td>NaN</td>\n    </tr>\n  </tbody>\n</table>\n</div>"
     },
     "metadata": {},
     "execution_count": 7
    }
   ],
   "source": [
    "df = pd.DataFrame(d)\n",
    "df.head()"
   ]
  },
  {
   "cell_type": "code",
   "execution_count": 12,
   "metadata": {},
   "outputs": [
    {
     "output_type": "execute_result",
     "data": {
      "text/plain": [
       "2               10\n",
       "OXYGEN           5\n",
       "ALL              5\n",
       "3                4\n",
       "4                4\n",
       "CALCIUM          3\n",
       "1, 3             3\n",
       "DNA              3\n",
       "2, 4             3\n",
       "CALVIN CYCLE     3\n",
       "Name: Answer, dtype: int64"
      ]
     },
     "metadata": {},
     "execution_count": 12
    }
   ],
   "source": [
    "df[\"Answer\"] = df['Answer'].apply(lambda x: x.strip('_ '))\n",
    "df[\"Answer\"].value_counts().head(10)"
   ]
  },
  {
   "cell_type": "code",
   "execution_count": 27,
   "metadata": {},
   "outputs": [
    {
     "output_type": "execute_result",
     "data": {
      "text/plain": [
       "the          1982\n",
       "of           1507\n",
       "is            668\n",
       "following     636\n",
       "              618\n",
       "which         610\n",
       "in            572\n",
       "a             561\n",
       "to            443\n",
       "what          362\n",
       "dtype: int64"
      ]
     },
     "metadata": {},
     "execution_count": 27
    }
   ],
   "source": [
    "words = []\n",
    "for i in list(df['Question']):\n",
    "    words.extend([j.strip('()1234?_,').lower() for j in i.split(' ')])\n",
    "words = pd.Series(words)\n",
    "words.value_counts().head(10)"
   ]
  },
  {
   "cell_type": "code",
   "execution_count": 35,
   "metadata": {},
   "outputs": [
    {
     "output_type": "stream",
     "name": "stderr",
     "text": [
      "[nltk_data] Downloading package stopwords to\n[nltk_data]     C:\\Users\\iamam\\AppData\\Roaming\\nltk_data...\n[nltk_data]   Package stopwords is already up-to-date!\n"
     ]
    },
    {
     "output_type": "execute_result",
     "data": {
      "text/plain": [
       "human        102\n",
       "cell         102\n",
       "read          82\n",
       "cells         65\n",
       "dna           56\n",
       "common        54\n",
       "one           53\n",
       "plant         52\n",
       "term          48\n",
       "type          48\n",
       "many          45\n",
       "best          45\n",
       "organisms     45\n",
       "two           44\n",
       "plants        44\n",
       "dtype: int64"
      ]
     },
     "metadata": {},
     "execution_count": 35
    }
   ],
   "source": [
    "nltk.download('stopwords')\n",
    "s = set(stopwords.words('english'))\n",
    "counts = dict(words.value_counts())\n",
    "\n",
    "for i in list(counts):\n",
    "    if i in s or i in ('following', '', 'name', 'would', 'as:'):\n",
    "        del counts[i]\n",
    "\n",
    "pd.Series(counts).head(15)"
   ]
  },
  {
   "cell_type": "code",
   "execution_count": null,
   "metadata": {},
   "outputs": [],
   "source": []
  }
 ],
 "metadata": {
  "kernelspec": {
   "name": "python3",
   "display_name": "Python 3.9.1 64-bit",
   "metadata": {
    "interpreter": {
     "hash": "e096f4ec2f86033eb39bbec3d81e97a9d09299ab4d5591217ee059f7bf7b671e"
    }
   }
  },
  "language_info": {
   "codemirror_mode": {
    "name": "ipython",
    "version": 3
   },
   "file_extension": ".py",
   "mimetype": "text/x-python",
   "name": "python",
   "nbconvert_exporter": "python",
   "pygments_lexer": "ipython3",
   "version": "3.9.1-final"
  }
 },
 "nbformat": 4,
 "nbformat_minor": 4
}