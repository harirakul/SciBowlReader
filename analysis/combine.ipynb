{
 "cells": [
  {
   "cell_type": "code",
   "execution_count": 5,
   "metadata": {},
   "outputs": [],
   "source": [
    "import json\n",
    "import os\n"
   ]
  },
  {
   "cell_type": "code",
   "execution_count": 11,
   "metadata": {},
   "outputs": [],
   "source": [
    "# To combine the questions from each subject into one database of all questions.\n",
    "\n",
    "all_qs = []\n",
    "\n",
    "for filename in os.listdir(r\"..\\data\\json\"):\n",
    "    with open(rf\"..\\data\\json\\{filename}\", \"r\") as f:\n",
    "        if (filename != \"ALL.json\"):\n",
    "            q = json.load(f)\n",
    "            all_qs.append(q)\n",
    "\n",
    "import json\n",
    "with open(r\"..\\data\\json\\ALL.json\", 'w') as fp:\n",
    "    json.dump(all_qs, fp, indent=4)"
   ]
  }
 ],
 "metadata": {
  "interpreter": {
   "hash": "e827e9083b4b6e0d0b82d5d26d797406b49fb6f6a8b59c543941f8d784dc8b4a"
  },
  "kernelspec": {
   "display_name": "Python 3.9.6 64-bit",
   "language": "python",
   "name": "python3"
  },
  "language_info": {
   "codemirror_mode": {
    "name": "ipython",
    "version": 3
   },
   "file_extension": ".py",
   "mimetype": "text/x-python",
   "name": "python",
   "nbconvert_exporter": "python",
   "pygments_lexer": "ipython3",
   "version": "3.9.6"
  },
  "orig_nbformat": 4
 },
 "nbformat": 4,
 "nbformat_minor": 2
}
